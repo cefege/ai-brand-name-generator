{
  "cells": [
    {
      "cell_type": "markdown",
      "metadata": {
        "id": "mWrrAS2VVtmo"
      },
      "source": [
        "# Brand Generator Model Training"
      ]
    },
    {
      "cell_type": "code",
      "execution_count": 2,
      "metadata": {
        "id": "wNd8USs9Vtmp"
      },
      "outputs": [],
      "source": [
        "%load_ext autoreload\n",
        "%autoreload 2"
      ]
    },
    {
      "cell_type": "code",
      "execution_count": 3,
      "metadata": {
        "id": "WlKbhBoqVtmr"
      },
      "outputs": [],
      "source": [
        "import os\n",
        "import sys\n",
        "sys.path.insert(0, os.path.abspath('../../'))"
      ]
    },
    {
      "cell_type": "code",
      "execution_count": null,
      "metadata": {
        "id": "5zbGKQFLVtmr"
      },
      "outputs": [],
      "source": [
        "!pip install sng\n",
        "import sng"
      ]
    },
    {
      "cell_type": "markdown",
      "metadata": {
        "id": "rwscvVWxVtms"
      },
      "source": [
        "## Prepare and train the model"
      ]
    },
    {
      "cell_type": "code",
      "execution_count": null,
      "metadata": {
        "id": "pMWPgE3oVtmt"
      },
      "outputs": [],
      "source": [
        "cfg = sng.Config(epochs=3000) # here you can change the number of training epochs\n",
        "cfg.to_dict()"
      ]
    },
    {
      "cell_type": "code",
      "execution_count": 5,
      "metadata": {
        "colab": {
          "base_uri": "https://localhost:8080/"
        },
        "id": "JtUF4kSAVtmu",
        "outputId": "0c06a4b6-f746-4254-e8b2-62bec955f9c0"
      },
      "outputs": [
        {
          "output_type": "execute_result",
          "data": {
            "text/plain": [
              "['greek.txt',\n",
              " 'pokemon.txt',\n",
              " 'black-speech.txt',\n",
              " 'french.txt',\n",
              " 'gallic.txt',\n",
              " 'english.txt',\n",
              " 'latin.txt',\n",
              " 'behemoth.txt',\n",
              " 'lorem-ipsum.txt',\n",
              " 'german.txt']"
            ]
          },
          "metadata": {},
          "execution_count": 5
        }
      ],
      "source": [
        "sng.show_builtin_wordlists() # list of builtin wordlists"
      ]
    },
    {
      "cell_type": "code",
      "execution_count": null,
      "metadata": {
        "id": "ZEwuExZ8Vtmw"
      },
      "outputs": [],
      "source": [
        "latin = sng.load_builtin_wordlist('latin.txt') # load latin wordlist"
      ]
    },
    {
      "cell_type": "code",
      "source": [
        "latin_gen = sng.Generator(wordlist=latin, config=cfg)\n",
        "latin_gen.fit() # train latin model"
      ],
      "metadata": {
        "id": "2EzoAJZ6P5mg"
      },
      "execution_count": null,
      "outputs": []
    },
    {
      "cell_type": "code",
      "source": [
        "pokemon = sng.load_builtin_wordlist('pokemon.txt') # load pokemon wordlist"
      ],
      "metadata": {
        "id": "Y9CPVmE6PzWO"
      },
      "execution_count": null,
      "outputs": []
    },
    {
      "cell_type": "code",
      "source": [
        "pokemon_gen = sng.Generator(wordlist=pokemon, config=cfg)\n",
        "pokemon_gen.fit() # train pokemon model"
      ],
      "metadata": {
        "id": "C4Wb1eslODoK"
      },
      "execution_count": null,
      "outputs": []
    },
    {
      "cell_type": "markdown",
      "metadata": {
        "id": "6wiXEXpDVtmy"
      },
      "source": [
        "## Save and load the model for later"
      ]
    },
    {
      "cell_type": "code",
      "execution_count": null,
      "metadata": {
        "id": "2p1qQhWYVtmy"
      },
      "outputs": [],
      "source": [
        "latin_gen.save('latin_model', overwrite=True)"
      ]
    },
    {
      "cell_type": "code",
      "source": [
        "pokemon_gen.save('pokemon_model', overwrite=True)"
      ],
      "metadata": {
        "id": "RxxTRdNbP3jE"
      },
      "execution_count": null,
      "outputs": []
    }
  ],
  "metadata": {
    "kernelspec": {
      "display_name": "Python 3",
      "language": "python",
      "name": "python3"
    },
    "language_info": {
      "codemirror_mode": {
        "name": "ipython",
        "version": 3
      },
      "file_extension": ".py",
      "mimetype": "text/x-python",
      "name": "python",
      "nbconvert_exporter": "python",
      "pygments_lexer": "ipython3",
      "version": "3.6.7"
    },
    "colab": {
      "name": "model_training.ipynb",
      "provenance": [],
      "collapsed_sections": []
    },
    "accelerator": "GPU"
  },
  "nbformat": 4,
  "nbformat_minor": 0
}